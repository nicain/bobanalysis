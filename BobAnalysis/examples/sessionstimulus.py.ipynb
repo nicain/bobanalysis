{
 "cells": [
  {
   "cell_type": "code",
   "execution_count": 2,
   "metadata": {
    "collapsed": true
   },
   "outputs": [],
   "source": [
    "from BobAnalysis.core.sessionstimulus import SessionStimulus\n",
    "from BobAnalysis import cache_location\n",
    "from allensdk.core.brain_observatory_cache import BrainObservatoryCache\n",
    "import os"
   ]
  },
  {
   "cell_type": "code",
   "execution_count": 4,
   "metadata": {},
   "outputs": [
    {
     "data": {
      "text/plain": [
       "<BobAnalysis.core.sessionstimulus.SessionStimulus at 0x7f9f639a90d0>"
      ]
     },
     "execution_count": 3,
     "metadata": {},
     "output_type": "execute_result"
    }
   ],
   "source": [
    "oeid = 530646083\n",
    "SessionStimulus(oeid=oeid)"
   ]
  },
  {
   "cell_type": "code",
   "execution_count": 4,
   "metadata": {},
   "outputs": [
    {
     "data": {
      "text/plain": [
       "<BobAnalysis.core.sessionstimulus.SessionStimulus at 0x7f9f639a9c50>"
      ]
     },
     "execution_count": 4,
     "metadata": {},
     "output_type": "execute_result"
    }
   ],
   "source": [
    "oeid=530646083\n",
    "manifest_file = os.path.join(cache_location, 'boc_manifest.json')\n",
    "brain_observatory_cache = BrainObservatoryCache(manifest_file=manifest_file)\n",
    "brain_observatory_nwb_data_set = brain_observatory_cache.get_ophys_experiment_data(oeid)\n",
    "SessionStimulus(brain_observatory_nwb_data_set=brain_observatory_nwb_data_set)"
   ]
  }
 ],
 "metadata": {
  "kernelspec": {
   "display_name": "Python 2",
   "language": "python",
   "name": "python2"
  },
  "language_info": {
   "codemirror_mode": {
    "name": "ipython",
    "version": 2.0
   },
   "file_extension": ".py",
   "mimetype": "text/x-python",
   "name": "python",
   "nbconvert_exporter": "python",
   "pygments_lexer": "ipython2",
   "version": "2.7.6"
  }
 },
 "nbformat": 4,
 "nbformat_minor": 0
}